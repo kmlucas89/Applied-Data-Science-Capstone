{
    "cells": [
        {
            "metadata": {
                "collapsed": true
            },
            "cell_type": "markdown",
            "source": "# 1. Introduction"
        },
        {
            "metadata": {},
            "cell_type": "markdown",
            "source": "## 1.1 New York City, a thriving metropolis with the most dense population in the United States, has a reputation for culinary excellence.  Tourists travel every year to explore not just the monuments, historical locations, and festivities; they also travel to enjoy the diverse food options.  The food staples of New York City are known throughout the world and include pizza, cheesecake, sandwiches, and bagels.  The inflow of tourists every year, coupled with the residential population, make New York City a prime location for new up-and-coming food service locations looking to meet a high demand.  "
        },
        {
            "metadata": {},
            "cell_type": "markdown",
            "source": "# 2. Business Problem"
        },
        {
            "metadata": {},
            "cell_type": "markdown",
            "source": "## 2.1 My client wishes to open a bakery/coffee shop that capitalizes on some of the New York City staples.  In the morning, they want to sell bagels and coffee.  In the evening, they want to transform into a dessert location specializing in cheesecake and coffees.  They are looking for a location that has a high population, with expected population growth, and limited competition from similar venues."
        },
        {
            "metadata": {},
            "cell_type": "markdown",
            "source": "# 3. Data"
        },
        {
            "metadata": {},
            "cell_type": "markdown",
            "source": "## 3.1 The data used to answer these problems comes from three locations.  \n\n### 3.1.1. The New York City JSON file which provides a list of all New York City Boroughs, Neighborhoods, and their coordinates.\n\n### 3.1.2. The Foursquare application which will provide venues, by location, throughout New York City.\n\n### 3.1.3 The \"New York city Population Projections by Age/Sex & Borough, 2010-2040\" Report  conducted by the City of New York (https://www1.nyc.gov/assets/planning/download/pdf/planning-level/nyc-population/projections_report_2010_2040.pdf).  This lists the projected New York City Population by borough in 2010-2040. \n\n### 3.1.4. Data Sources 1 and 2 will be merged in order to provide a list of venues by Borough and Neighborhood.  This will enable the analysis of neighborhoods to determine the venue types in each.  Data source 3 will provide the projected population growth for each borough, which will enable the determination of neighborhoods ripe for exploitation.  A borough/neighborhood with expected growth will see an increased demand over time.  "
        },
        {
            "metadata": {},
            "cell_type": "markdown",
            "source": "# 4. Methodology"
        },
        {
            "metadata": {},
            "cell_type": "markdown",
            "source": "## 4.1 This project will have four steps.  The steps will determine the venues across New York City, cluster the neighborhoods by venue type, identify those neighborhoods with high/low densities of similar venues, and then cross-reference those neighborhoods with the expectation for population growth in order to identify the best neighborhoods for both criteria.  \n\n### 4.1.1. Step 1 will analyze the distribution of venues across New York City.  With the New York City JSON file, I developed a dataframe that listed each neighborhood within New York City by their borough and providing their geographic coordinates.  I then drew from the Foursquare application all venues within New York City and created a dataframe of those locations.  I merged the two dataframes to create a single dataframe that provided all venues, their neighborhoods, Borough, and geographic coordinates.  \n\n### 4.1.2. Step 2 took the dataframe from Step 1 and refocused efforts on neighborhoods.  Using one-hot encoding, the venues were analyzed by neighborhood, creating a new dataframe.  The new dataframe provided the frequency of each venue type by neighborhood, which was then converted to list the top ten venue types in each neighborhoods.  \n\n### 4.1.3. Step 3 built upon step 2 by using k-means clustering to group neighborhoods by venue types.  This provided groups of neighborhoods with similar venues.  These groups are then analyzed to determine which groups have a high/low density of venues similar to coffee/bagel/dessert shops.  The high density venue neighborhoods are discarded.  The low density venue neighborhoods are retained for further analysis.    \n\n### 4.1.4. Step 4 took the results from Steps 1-3 and cross-referenced potential neighborhoods with the expected population growth across the next twenty years.  "
        },
        {
            "metadata": {},
            "cell_type": "markdown",
            "source": "# 5. Results"
        },
        {
            "metadata": {},
            "cell_type": "markdown",
            "source": "## 5.1. Neighborhood Clusters"
        },
        {
            "metadata": {},
            "cell_type": "markdown",
            "source": "### 5.1.1  The 10 clusters of neighborhoods yielded only one cluster which was advantageous for the development of a new coffee/bagel/dessert shop.  This was cluster 1, which had 23 locations in Staten Island, 1 in the Bronx, and 1 in Brooklyn.  "
        },
        {
            "metadata": {},
            "cell_type": "markdown",
            "source": "## 5.2. Population Growth"
        },
        {
            "metadata": {},
            "cell_type": "markdown",
            "source": "### 5.2.1. Of the five boroughs, the Bronx and Brooklyn are templated to have the highest growth with 14% and 11% expected growth, respectively.  "
        },
        {
            "metadata": {},
            "cell_type": "markdown",
            "source": "## 5.3. Potential Neighborhoods"
        },
        {
            "metadata": {},
            "cell_type": "markdown",
            "source": "### 5.3.1. Within the one cluster that was advantageous for development, only two neighborhoods sat in a borough that is expected to have large population growth.  These were Edenwald in the Bronx and Ocean Hill in Brooklyn.  "
        },
        {
            "metadata": {},
            "cell_type": "markdown",
            "source": "# 6. Discussion"
        },
        {
            "metadata": {},
            "cell_type": "markdown",
            "source": "## 6.1 Neighborhood Clusters"
        },
        {
            "metadata": {},
            "cell_type": "markdown",
            "source": "### 6.1.1  The clustering of neighborhoods yielded three major categories of neighborhoods.  The first category were those with a low-density of coffee/bakery venues and a plausible location for a new restaurant.  There were 25 such locations with locations in the Bronx, Brooklyn, and Staten Island.  The \"plausible location\" determination was based on their location near population centers (i.e. locations near beaches or ports would not be advantageous).  The second category were those clusters which had a low-density of coffee/bakery venues but were not plausible locations for a new restaurant.  These locations clustered in staten island, along the coast.  They had beaches, playgrounds, and parks as their major locations.  The final category were those with a high density of coffee, bagel, or donut shops.  These locations are opposite those requested by the client and can be discarded.  "
        },
        {
            "metadata": {},
            "cell_type": "markdown",
            "source": "## 6.2. Population Growth"
        },
        {
            "metadata": {},
            "cell_type": "markdown",
            "source": "### 6.2.1. Over the next 20 years, every borough is expected to have population growth.  However, only two neighborhoods have a double-digit percent expectation of growth.  At the same time, these two boroughs already have a respectible population size, which demonstrates a current demand stream and future demand growth.  "
        },
        {
            "metadata": {},
            "cell_type": "markdown",
            "source": "## 6.3. Potential Neighborhoods"
        },
        {
            "metadata": {},
            "cell_type": "markdown",
            "source": "### 6.3.1. The one cluster chosen as listing possible locations for development had one neighborhood in the Bronx, one neighborhood in Brooklyn, and twenty-three locations in Staten Island.  Because Staten Island is expected to have the second-lowest population growth and has the lowest population, those locations were discarded as possible venues.  This left the two aforementioned locations in the Bronx and Brooklyn as possible neighborhoods.  "
        },
        {
            "metadata": {},
            "cell_type": "markdown",
            "source": "# 7. Conclusion"
        },
        {
            "metadata": {},
            "cell_type": "markdown",
            "source": "## 7.1. New York City provides a great location for possible new business ventures due to its current population base, potential for growth, and its commonly-known food staples.  One of those staples, the bagel/bakery industry has deep roots, which can cause density in some locations but possibility in others.  Through this report, two neighborhoods were identified as possible locations for the development of a coffee/bagel venue due to their location in high population areas and low current density of coffee/dessert venues.  "
        },
        {
            "metadata": {},
            "cell_type": "code",
            "source": "",
            "execution_count": null,
            "outputs": []
        }
    ],
    "metadata": {
        "kernelspec": {
            "name": "python3",
            "display_name": "Python 3.7",
            "language": "python"
        },
        "language_info": {
            "name": "python",
            "version": "3.7.9",
            "mimetype": "text/x-python",
            "codemirror_mode": {
                "name": "ipython",
                "version": 3
            },
            "pygments_lexer": "ipython3",
            "nbconvert_exporter": "python",
            "file_extension": ".py"
        }
    },
    "nbformat": 4,
    "nbformat_minor": 1
}