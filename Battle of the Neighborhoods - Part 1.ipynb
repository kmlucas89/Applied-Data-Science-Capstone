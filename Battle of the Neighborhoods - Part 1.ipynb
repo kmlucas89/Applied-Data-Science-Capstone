{
    "cells": [
        {
            "metadata": {
                "collapsed": true
            },
            "cell_type": "markdown",
            "source": "# Introduction"
        },
        {
            "metadata": {},
            "cell_type": "markdown",
            "source": "### New York City, a thriving metropolis with the most dense population in the United States, has a reputation for culinary excellence.  Tourists travel every year to explore not just the monuments, historical locations, and festivities; they also travel to enjoy the diverse food options.  The food staples of New York City are known throughout the world and include pizza, cheesecake, sandwiches, and bagels.  The inflow of tourists every year, coupled with the residential population, make New York City a prime location for new up-and-coming food service locations looking to meet a high demand.  "
        },
        {
            "metadata": {},
            "cell_type": "markdown",
            "source": "# Business Problem"
        },
        {
            "metadata": {},
            "cell_type": "markdown",
            "source": "### My client wishes to open a bakery/coffee shop that capitalizes on some of the New York City staples.  In the morning, they want to sell bagels and coffee.  In the evening, they want to transform into a dessert location specializing in cheesecake and coffees.  They are looking for a location that has a high population, with expected population growth, and limited competition from similar venues."
        },
        {
            "metadata": {},
            "cell_type": "markdown",
            "source": "## Data"
        },
        {
            "metadata": {},
            "cell_type": "markdown",
            "source": "### Sources"
        },
        {
            "metadata": {},
            "cell_type": "markdown",
            "source": "#### The data used to answer these problems comes from three locations.  \n\n#### 1. The New York City JSON file which provides a list of all New York City Boroughs, Neighborhoods, and their coordinates.\n\n#### 2. The Foursquare application which will provide venues, by location, throughout New York City.\n\n#### 3. The \"New York city Population Projections by Age/Sex & Borough, 2010-2040\" Report  conducted by the City of New York (https://www1.nyc.gov/assets/planning/download/pdf/planning-level/nyc-population/projections_report_2010_2040.pdf).  This lists the projected New York City Population by borough in 2030. "
        },
        {
            "metadata": {},
            "cell_type": "markdown",
            "source": "### Methodology"
        },
        {
            "metadata": {},
            "cell_type": "markdown",
            "source": "#### This project will have two parts.  First, I need to determine the distribution of venues, by category, across New York City in order to determine which areas already have a high density of coffee shops, bakeries, and bagel shops.  This will be completed by pulling the venue data from Foursquare and conducting a k-means analysis in order to cluster neighborhoods into groups based on their most common venues.  From this, I can deduce which neighborhoods (and associated borough) have a high or low density of aforementioned venues.  With the list of low-density neighborhoods, I can cross-reference which boroughs have the highest current population and expected growth in order to determine which locations have the greatest potential for future earnings.   "
        },
        {
            "metadata": {},
            "cell_type": "code",
            "source": "",
            "execution_count": null,
            "outputs": []
        }
    ],
    "metadata": {
        "kernelspec": {
            "name": "python3",
            "display_name": "Python 3.7",
            "language": "python"
        },
        "language_info": {
            "name": "python",
            "version": "3.7.9",
            "mimetype": "text/x-python",
            "codemirror_mode": {
                "name": "ipython",
                "version": 3
            },
            "pygments_lexer": "ipython3",
            "nbconvert_exporter": "python",
            "file_extension": ".py"
        }
    },
    "nbformat": 4,
    "nbformat_minor": 1
}